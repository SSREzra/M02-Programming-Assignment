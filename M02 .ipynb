{
 "cells": [
  {
   "cell_type": "code",
   "execution_count": 32,
   "id": "22ed5c8b-989f-49ed-9e1d-4198e875abfb",
   "metadata": {
    "tags": []
   },
   "outputs": [],
   "source": [
    "def guess():\n",
    "    guess = 4\n",
    "    secert = 7\n",
    "    if guess > secert:\n",
    "        print(\"too high\")\n",
    "    elif guess < secert:\n",
    "        print(\"too low\")\n",
    "    else:\n",
    "        print(\"just right+\")"
   ]
  },
  {
   "cell_type": "code",
   "execution_count": 11,
   "id": "da738778-88c5-4b1f-aecf-62b5acad1573",
   "metadata": {
    "tags": []
   },
   "outputs": [
    {
     "name": "stdout",
     "output_type": "stream",
     "text": [
      "cherry\n"
     ]
    }
   ],
   "source": [
    "small = True\n",
    "green = False\n",
    "if small:\n",
    "    if green:\n",
    "        print(\"pea\")\n",
    "    else:\n",
    "        print(\"cherry\")\n",
    "else:\n",
    "    if green:\n",
    "        print(\"watermelon\")\n",
    "    else:\n",
    "        print(\"pumpkin\")"
   ]
  },
  {
   "cell_type": "code",
   "execution_count": 13,
   "id": "f4ced9f7",
   "metadata": {},
   "outputs": [
    {
     "data": {
      "text/plain": [
       "[3, 2, 1, 0]"
      ]
     },
     "execution_count": 13,
     "metadata": {},
     "output_type": "execute_result"
    }
   ],
   "source": [
    "mylist = [3, 2, 1, 0]\n",
    "mylist"
   ]
  },
  {
   "cell_type": "code",
   "execution_count": 35,
   "id": "adfbdb92-8884-4dfa-a834-07230806da13",
   "metadata": {},
   "outputs": [
    {
     "name": "stdout",
     "output_type": "stream",
     "text": [
      "too low\n",
      "too low\n",
      "too low\n",
      "too low\n",
      "too low\n",
      "too low\n",
      "found it\n"
     ]
    }
   ],
   "source": [
    "guess_me = 7\n",
    "number = 1\n",
    "while number < 10:\n",
    "    if number < guess_me:\n",
    "        print('too low')\n",
    "    elif number == guess_me:\n",
    "        print('found it')\n",
    "        break\n",
    "    elif number > guess_me:\n",
    "        print('Oops!')\n",
    "        break\n",
    "    number = number + 1\n",
    "    \n",
    "def sixpoint2():\n",
    "    number = 1\n",
    "    guess_me = 7\n",
    "    while number < 10:\n",
    "        if number == guess_me:\n",
    "            print(\"found it\")\n",
    "            break\n",
    "        elif number < guess_me:\n",
    "                print(\"too low\")\n",
    "        elif number > guess_me:\n",
    "                print(\"oops\")\n",
    "                break\n",
    "                number = number + 1        "
   ]
  },
  {
   "cell_type": "code",
   "execution_count": null,
   "id": "496a0b03",
   "metadata": {},
   "outputs": [],
   "source": []
  }
 ],
 "metadata": {
  "kernelspec": {
   "display_name": "Python 3 (ipykernel)",
   "language": "python",
   "name": "python3"
  },
  "language_info": {
   "codemirror_mode": {
    "name": "ipython",
    "version": 3
   },
   "file_extension": ".py",
   "mimetype": "text/x-python",
   "name": "python",
   "nbconvert_exporter": "python",
   "pygments_lexer": "ipython3",
   "version": "3.11.5"
  }
 },
 "nbformat": 4,
 "nbformat_minor": 5
}
